{
  "nbformat": 4,
  "nbformat_minor": 0,
  "metadata": {
    "colab": {
      "provenance": [],
      "authorship_tag": "ABX9TyOIiQzvPtVEJO7bDS59TdxL",
      "include_colab_link": true
    },
    "kernelspec": {
      "name": "python3",
      "display_name": "Python 3"
    },
    "language_info": {
      "name": "python"
    }
  },
  "cells": [
    {
      "cell_type": "markdown",
      "metadata": {
        "id": "view-in-github",
        "colab_type": "text"
      },
      "source": [
        "<a href=\"https://colab.research.google.com/github/trevormoon/GAN_study/blob/main/GAN_Example.ipynb\" target=\"_parent\"><img src=\"https://colab.research.google.com/assets/colab-badge.svg\" alt=\"Open In Colab\"/></a>"
      ]
    },
    {
      "cell_type": "code",
      "execution_count": 4,
      "metadata": {
        "id": "eF8ZhbgiQN4u"
      },
      "outputs": [],
      "source": [
        "import pandas as pd\n",
        "import numpy as np\n",
        "import keras\n",
        "import keras.backend as K\n",
        "from keras.layers import Conv2D, Activation, Dropout, Flatten, Dense, BatchNormalization, Reshape, UpSampling2D, Input\n",
        "from keras.models import Model\n",
        "from keras.optimizers import RMSprop\n",
        "from keras.preprocessing.image import array_to_img\n",
        "import tensorflow as tf\n",
        "import warnings ; warnings.filterwarnings('ignore')\n",
        "\n",
        "import matplotlib.pyplot as plt\n",
        "from tqdm import tqdm"
      ]
    },
    {
      "cell_type": "code",
      "source": [
        "mnist = tf.keras.datasets.mnist\n",
        "\n",
        "(x_train, y_train), (x_test, y_test) = mnist.load_data()\n",
        "X_train, x_test = x_train / 255.0, x_test / 255.0\n",
        "print(X_train.shape)"
      ],
      "metadata": {
        "colab": {
          "base_uri": "https://localhost:8080/"
        },
        "id": "mpc-fxmf1f09",
        "outputId": "cddce6bb-6cb6-452d-fc5f-529e38f3747c"
      },
      "execution_count": 5,
      "outputs": [
        {
          "output_type": "stream",
          "name": "stdout",
          "text": [
            "Downloading data from https://storage.googleapis.com/tensorflow/tf-keras-datasets/mnist.npz\n",
            "11490434/11490434 [==============================] - 0s 0us/step\n",
            "(60000, 28, 28)\n"
          ]
        }
      ]
    },
    {
      "cell_type": "code",
      "source": [
        "disc_input = Input(shape=(28, 28, 1))\n",
        "\n",
        "x = Conv2D(filters=64, kernel_size=5, strides=2, padding='same')(disc_input)\n",
        "x = Activation('relu')(x)\n",
        "x = Dropout(rate=0.4)(x)\n",
        "\n",
        "x = Conv2D(filters = 64, kernel_size=5, strides=2, padding='same')(x)\n",
        "x = Activation('relu')(x)\n",
        "x = Dropout(rate=0.4)(x)\n",
        "\n",
        "x = Conv2D(filters=128, kernel_size=5, strides=2, padding='same')(x)\n",
        "x = Activation('relu')(x)\n",
        "x = Dropout(rate=0.4)(x)\n",
        "\n",
        "x = Conv2D(filters=128, kernel_size=5, strides=1, padding='same')(x)\n",
        "x = Activation('relu')(x)\n",
        "x = Dropout(rate=0.4)(x)\n",
        "\n",
        "x = Flatten()(x)\n",
        "disc_output = Dense(units=1, activation='sigmoid', kernel_initializer='he_normal')(x)\n",
        "\n",
        "discriminator = Model(disc_input, disc_output)\n",
        "discriminator.summary()\n",
        "\n"
      ],
      "metadata": {
        "colab": {
          "base_uri": "https://localhost:8080/"
        },
        "id": "CUmw_jAiQQ3P",
        "outputId": "b669acec-a351-48ea-a710-03efd3be3bd0"
      },
      "execution_count": 6,
      "outputs": [
        {
          "output_type": "stream",
          "name": "stdout",
          "text": [
            "Model: \"model\"\n",
            "_________________________________________________________________\n",
            " Layer (type)                Output Shape              Param #   \n",
            "=================================================================\n",
            " input_1 (InputLayer)        [(None, 28, 28, 1)]       0         \n",
            "                                                                 \n",
            " conv2d (Conv2D)             (None, 14, 14, 64)        1664      \n",
            "                                                                 \n",
            " activation (Activation)     (None, 14, 14, 64)        0         \n",
            "                                                                 \n",
            " dropout (Dropout)           (None, 14, 14, 64)        0         \n",
            "                                                                 \n",
            " conv2d_1 (Conv2D)           (None, 7, 7, 64)          102464    \n",
            "                                                                 \n",
            " activation_1 (Activation)   (None, 7, 7, 64)          0         \n",
            "                                                                 \n",
            " dropout_1 (Dropout)         (None, 7, 7, 64)          0         \n",
            "                                                                 \n",
            " conv2d_2 (Conv2D)           (None, 4, 4, 128)         204928    \n",
            "                                                                 \n",
            " activation_2 (Activation)   (None, 4, 4, 128)         0         \n",
            "                                                                 \n",
            " dropout_2 (Dropout)         (None, 4, 4, 128)         0         \n",
            "                                                                 \n",
            " conv2d_3 (Conv2D)           (None, 4, 4, 128)         409728    \n",
            "                                                                 \n",
            " activation_3 (Activation)   (None, 4, 4, 128)         0         \n",
            "                                                                 \n",
            " dropout_3 (Dropout)         (None, 4, 4, 128)         0         \n",
            "                                                                 \n",
            " flatten (Flatten)           (None, 2048)              0         \n",
            "                                                                 \n",
            " dense (Dense)               (None, 1)                 2049      \n",
            "                                                                 \n",
            "=================================================================\n",
            "Total params: 720833 (2.75 MB)\n",
            "Trainable params: 720833 (2.75 MB)\n",
            "Non-trainable params: 0 (0.00 Byte)\n",
            "_________________________________________________________________\n"
          ]
        }
      ]
    },
    {
      "cell_type": "code",
      "source": [
        "gen_dense_size=(7, 7, 64)\n",
        "\n",
        "gen_input = Input(shape = (100, ))\n",
        "x = Dense(units=np.prod(gen_dense_size))(gen_input)\n",
        "x = BatchNormalization()(x)\n",
        "x = Activation('relu')(x)\n",
        "x = Reshape(gen_dense_size)(x)\n",
        "\n",
        "x = UpSampling2D()(x)\n",
        "x = Conv2D(filters=128, kernel_size=5, padding='same', strides=1)(x)\n",
        "x = BatchNormalization(momentum=0.9)(x)\n",
        "x = Activation('relu')(x)\n",
        "\n",
        "x = UpSampling2D()(x)\n",
        "x = Conv2D(filters = 64, kernel_size=5, padding='same', strides=1)(x)\n",
        "x = BatchNormalization(momentum=0.9)(x)\n",
        "x = Activation('relu')(x)\n",
        "\n",
        "x = Conv2D(filters=64, kernel_size=5, padding='same', strides=1)(x)\n",
        "x = BatchNormalization(momentum=0.9)(x)\n",
        "x = Activation('relu')(x)\n",
        "\n",
        "x = Conv2D(filters=1, kernel_size=5, padding='same', strides=1)(x)\n",
        "gen_output = Activation('sigmoid')(x)\n",
        "\n",
        "generator = Model(gen_input, gen_output)\n",
        "generator.summary()\n",
        "\n"
      ],
      "metadata": {
        "colab": {
          "base_uri": "https://localhost:8080/"
        },
        "id": "RUaPjGF01sbU",
        "outputId": "c089e9a0-b7d1-41ce-b5e9-cad9f501d56b"
      },
      "execution_count": 7,
      "outputs": [
        {
          "output_type": "stream",
          "name": "stdout",
          "text": [
            "Model: \"model_1\"\n",
            "_________________________________________________________________\n",
            " Layer (type)                Output Shape              Param #   \n",
            "=================================================================\n",
            " input_2 (InputLayer)        [(None, 100)]             0         \n",
            "                                                                 \n",
            " dense_1 (Dense)             (None, 3136)              316736    \n",
            "                                                                 \n",
            " batch_normalization (Batch  (None, 3136)              12544     \n",
            " Normalization)                                                  \n",
            "                                                                 \n",
            " activation_4 (Activation)   (None, 3136)              0         \n",
            "                                                                 \n",
            " reshape (Reshape)           (None, 7, 7, 64)          0         \n",
            "                                                                 \n",
            " up_sampling2d (UpSampling2  (None, 14, 14, 64)        0         \n",
            " D)                                                              \n",
            "                                                                 \n",
            " conv2d_4 (Conv2D)           (None, 14, 14, 128)       204928    \n",
            "                                                                 \n",
            " batch_normalization_1 (Bat  (None, 14, 14, 128)       512       \n",
            " chNormalization)                                                \n",
            "                                                                 \n",
            " activation_5 (Activation)   (None, 14, 14, 128)       0         \n",
            "                                                                 \n",
            " up_sampling2d_1 (UpSamplin  (None, 28, 28, 128)       0         \n",
            " g2D)                                                            \n",
            "                                                                 \n",
            " conv2d_5 (Conv2D)           (None, 28, 28, 64)        204864    \n",
            "                                                                 \n",
            " batch_normalization_2 (Bat  (None, 28, 28, 64)        256       \n",
            " chNormalization)                                                \n",
            "                                                                 \n",
            " activation_6 (Activation)   (None, 28, 28, 64)        0         \n",
            "                                                                 \n",
            " conv2d_6 (Conv2D)           (None, 28, 28, 64)        102464    \n",
            "                                                                 \n",
            " batch_normalization_3 (Bat  (None, 28, 28, 64)        256       \n",
            " chNormalization)                                                \n",
            "                                                                 \n",
            " activation_7 (Activation)   (None, 28, 28, 64)        0         \n",
            "                                                                 \n",
            " conv2d_7 (Conv2D)           (None, 28, 28, 1)         1601      \n",
            "                                                                 \n",
            " activation_8 (Activation)   (None, 28, 28, 1)         0         \n",
            "                                                                 \n",
            "=================================================================\n",
            "Total params: 844161 (3.22 MB)\n",
            "Trainable params: 837377 (3.19 MB)\n",
            "Non-trainable params: 6784 (26.50 KB)\n",
            "_________________________________________________________________\n"
          ]
        }
      ]
    },
    {
      "cell_type": "code",
      "source": [
        "discriminator.compile(optimizer=RMSprop(lr=0.0008), loss='binary_crossentropy', metrics=['accuracy'])\n",
        "discriminator.trainable = False\n",
        "model_input = Input(shape=(100, ))\n",
        "model_output = discriminator(generator(model_input))\n",
        "model = Model(model_input, model_output)\n",
        "\n",
        "model.compile(optimizer=RMSprop(lr=0.0004), loss='binary_crossentropy', metrics=['accuracy'])\n",
        "\n"
      ],
      "metadata": {
        "colab": {
          "base_uri": "https://localhost:8080/"
        },
        "id": "2SGp2c6Y10b5",
        "outputId": "36ee7b27-4edf-44ee-edef-411eb06902d3"
      },
      "execution_count": 8,
      "outputs": [
        {
          "output_type": "stream",
          "name": "stderr",
          "text": [
            "WARNING:absl:`lr` is deprecated in Keras optimizer, please use `learning_rate` or use the legacy optimizer, e.g.,tf.keras.optimizers.legacy.RMSprop.\n",
            "WARNING:absl:`lr` is deprecated in Keras optimizer, please use `learning_rate` or use the legacy optimizer, e.g.,tf.keras.optimizers.legacy.RMSprop.\n"
          ]
        }
      ]
    },
    {
      "cell_type": "code",
      "source": [
        "def train_discriminator(x_train, batch_size):\n",
        "    valid = np.ones((batch_size, 1))\n",
        "    fake = np.zeros((batch_size, 1))\n",
        "\n",
        "    idx = np.random.randint(0, len(X_train), batch_size)\n",
        "    true_imgs = X_train[idx]\n",
        "    discriminator.fit(true_imgs, valid, verbose=0)\n",
        "\n",
        "    noise = np.random.normal(0, 1, (batch_size, 100))\n",
        "    gen_imgs = generator.predict(noise)\n",
        "\n",
        "    discriminator.fit(gen_imgs, fake, verbose=0)\n",
        "\n",
        "def train_generator(batch_size):\n",
        "    valid = np.ones((batch_size, 1))\n",
        "    noise = np.random.normal(0, 1, (batch_size, 100))\n",
        "    model.fit(noise, valid, verbose=1)\n",
        "\n",
        "for epoch in tqdm(range(2000)):\n",
        "    train_discriminator(X_train, 64)\n",
        "    train_generator(64)"
      ],
      "metadata": {
        "colab": {
          "base_uri": "https://localhost:8080/"
        },
        "id": "m6W2nwVw12eK",
        "outputId": "3427082a-ae83-4516-eb2b-8e2b006b7049"
      },
      "execution_count": null,
      "outputs": [
        {
          "output_type": "stream",
          "name": "stderr",
          "text": [
            "\r  0%|          | 0/2000 [00:00<?, ?it/s]"
          ]
        },
        {
          "output_type": "stream",
          "name": "stdout",
          "text": [
            "2/2 [==============================] - 1s 288ms/step\n",
            "2/2 [==============================] - 4s 1s/step - loss: 0.6515 - accuracy: 1.0000\n"
          ]
        },
        {
          "output_type": "stream",
          "name": "stderr",
          "text": [
            "\r  0%|          | 1/2000 [00:08<4:30:04,  8.11s/it]"
          ]
        },
        {
          "output_type": "stream",
          "name": "stdout",
          "text": [
            "2/2 [==============================] - 1s 277ms/step\n",
            "2/2 [==============================] - 3s 1s/step - loss: 0.6478 - accuracy: 1.0000\n"
          ]
        },
        {
          "output_type": "stream",
          "name": "stderr",
          "text": [
            "\r  0%|          | 2/2000 [00:12<3:11:44,  5.76s/it]"
          ]
        },
        {
          "output_type": "stream",
          "name": "stdout",
          "text": [
            "2/2 [==============================] - 1s 427ms/step\n",
            "2/2 [==============================] - 3s 1s/step - loss: 0.6706 - accuracy: 0.9375\n"
          ]
        },
        {
          "output_type": "stream",
          "name": "stderr",
          "text": [
            "\r  0%|          | 3/2000 [00:19<3:30:33,  6.33s/it]"
          ]
        },
        {
          "output_type": "stream",
          "name": "stdout",
          "text": [
            "2/2 [==============================] - 1s 292ms/step\n",
            "2/2 [==============================] - 3s 1s/step - loss: 0.6571 - accuracy: 1.0000\n"
          ]
        },
        {
          "output_type": "stream",
          "name": "stderr",
          "text": [
            "\r  0%|          | 4/2000 [00:23<3:00:25,  5.42s/it]"
          ]
        },
        {
          "output_type": "stream",
          "name": "stdout",
          "text": [
            "2/2 [==============================] - 1s 312ms/step\n",
            "2/2 [==============================] - 3s 2s/step - loss: 0.5923 - accuracy: 1.0000\n"
          ]
        },
        {
          "output_type": "stream",
          "name": "stderr",
          "text": [
            "\r  0%|          | 5/2000 [00:29<3:12:46,  5.80s/it]"
          ]
        },
        {
          "output_type": "stream",
          "name": "stdout",
          "text": [
            "2/2 [==============================] - 1s 295ms/step\n",
            "2/2 [==============================] - 2s 1s/step - loss: 0.3032 - accuracy: 1.0000\n"
          ]
        },
        {
          "output_type": "stream",
          "name": "stderr",
          "text": [
            "\r  0%|          | 6/2000 [00:33<2:49:37,  5.10s/it]"
          ]
        },
        {
          "output_type": "stream",
          "name": "stdout",
          "text": [
            "2/2 [==============================] - 1s 281ms/step\n",
            "2/2 [==============================] - 3s 1s/step - loss: 0.0066 - accuracy: 1.0000\n"
          ]
        },
        {
          "output_type": "stream",
          "name": "stderr",
          "text": [
            "\r  0%|          | 7/2000 [00:37<2:36:25,  4.71s/it]"
          ]
        },
        {
          "output_type": "stream",
          "name": "stdout",
          "text": [
            "2/2 [==============================] - 1s 379ms/step\n",
            "2/2 [==============================] - 3s 1s/step - loss: 5.0359e-05 - accuracy: 1.0000\n"
          ]
        },
        {
          "output_type": "stream",
          "name": "stderr",
          "text": [
            "\r  0%|          | 8/2000 [00:42<2:37:36,  4.75s/it]"
          ]
        },
        {
          "output_type": "stream",
          "name": "stdout",
          "text": [
            "2/2 [==============================] - 1s 282ms/step\n",
            "2/2 [==============================] - 4s 3s/step - loss: 2.5883e-06 - accuracy: 1.0000\n"
          ]
        },
        {
          "output_type": "stream",
          "name": "stderr",
          "text": [
            "\r  0%|          | 9/2000 [00:48<2:55:35,  5.29s/it]"
          ]
        },
        {
          "output_type": "stream",
          "name": "stdout",
          "text": [
            "2/2 [==============================] - 2s 1s/step\n",
            "2/2 [==============================] - 6s 3s/step - loss: 4.6867e-07 - accuracy: 1.0000\n"
          ]
        },
        {
          "output_type": "stream",
          "name": "stderr",
          "text": [
            "\r  0%|          | 10/2000 [01:03<4:37:30,  8.37s/it]"
          ]
        },
        {
          "output_type": "stream",
          "name": "stdout",
          "text": [
            "2/2 [==============================] - 1s 543ms/step\n",
            "2/2 [==============================] - 2s 1s/step - loss: 3.0433e-07 - accuracy: 1.0000\n"
          ]
        },
        {
          "output_type": "stream",
          "name": "stderr",
          "text": [
            "\r  1%|          | 11/2000 [01:09<4:12:39,  7.62s/it]"
          ]
        },
        {
          "output_type": "stream",
          "name": "stdout",
          "text": [
            "2/2 [==============================] - 1s 278ms/step\n",
            "2/2 [==============================] - 2s 1s/step - loss: 1.3351e-07 - accuracy: 1.0000\n"
          ]
        },
        {
          "output_type": "stream",
          "name": "stderr",
          "text": [
            "\r  1%|          | 12/2000 [01:13<3:33:22,  6.44s/it]"
          ]
        },
        {
          "output_type": "stream",
          "name": "stdout",
          "text": [
            "2/2 [==============================] - 1s 280ms/step\n",
            "2/2 [==============================] - 3s 2s/step - loss: 0.0037 - accuracy: 1.0000\n"
          ]
        },
        {
          "output_type": "stream",
          "name": "stderr",
          "text": [
            "\r  1%|          | 13/2000 [01:18<3:13:23,  5.84s/it]"
          ]
        },
        {
          "output_type": "stream",
          "name": "stdout",
          "text": [
            "2/2 [==============================] - 1s 282ms/step\n",
            "2/2 [==============================] - 2s 1s/step - loss: 3.6434e-15 - accuracy: 1.0000\n"
          ]
        },
        {
          "output_type": "stream",
          "name": "stderr",
          "text": [
            "\r  1%|          | 14/2000 [01:22<3:02:17,  5.51s/it]"
          ]
        },
        {
          "output_type": "stream",
          "name": "stdout",
          "text": [
            "2/2 [==============================] - 1s 279ms/step\n",
            "2/2 [==============================] - 2s 1s/step - loss: 9.4544e-16 - accuracy: 1.0000\n"
          ]
        },
        {
          "output_type": "stream",
          "name": "stderr",
          "text": [
            "\r  1%|          | 15/2000 [01:26<2:45:45,  5.01s/it]"
          ]
        },
        {
          "output_type": "stream",
          "name": "stdout",
          "text": [
            "2/2 [==============================] - 1s 296ms/step\n",
            "2/2 [==============================] - 4s 2s/step - loss: 2.2812e-15 - accuracy: 1.0000\n"
          ]
        },
        {
          "output_type": "stream",
          "name": "stderr",
          "text": [
            "\r  1%|          | 16/2000 [01:33<3:00:15,  5.45s/it]"
          ]
        },
        {
          "output_type": "stream",
          "name": "stdout",
          "text": [
            "2/2 [==============================] - 1s 285ms/step\n",
            "2/2 [==============================] - 2s 1s/step - loss: 1.1638e-15 - accuracy: 1.0000\n"
          ]
        },
        {
          "output_type": "stream",
          "name": "stderr",
          "text": [
            "\r  1%|          | 17/2000 [01:37<2:45:08,  5.00s/it]"
          ]
        },
        {
          "output_type": "stream",
          "name": "stdout",
          "text": [
            "2/2 [==============================] - 1s 293ms/step\n",
            "2/2 [==============================] - 2s 1s/step - loss: 2.8926e-16 - accuracy: 1.0000\n"
          ]
        },
        {
          "output_type": "stream",
          "name": "stderr",
          "text": [
            "\r  1%|          | 18/2000 [01:40<2:33:27,  4.65s/it]"
          ]
        },
        {
          "output_type": "stream",
          "name": "stdout",
          "text": [
            "2/2 [==============================] - 1s 313ms/step\n",
            "2/2 [==============================] - 3s 1s/step - loss: 1.0029e-15 - accuracy: 1.0000\n"
          ]
        },
        {
          "output_type": "stream",
          "name": "stderr",
          "text": [
            "\r  1%|          | 19/2000 [01:47<2:52:09,  5.21s/it]"
          ]
        },
        {
          "output_type": "stream",
          "name": "stdout",
          "text": [
            "2/2 [==============================] - 1s 296ms/step\n",
            "2/2 [==============================] - 3s 1s/step - loss: 5.0769e-15 - accuracy: 1.0000\n"
          ]
        },
        {
          "output_type": "stream",
          "name": "stderr",
          "text": [
            "\r  1%|          | 20/2000 [01:51<2:37:26,  4.77s/it]"
          ]
        },
        {
          "output_type": "stream",
          "name": "stdout",
          "text": [
            "2/2 [==============================] - 1s 289ms/step\n",
            "2/2 [==============================] - 3s 2s/step - loss: 1.5248e-15 - accuracy: 1.0000\n"
          ]
        },
        {
          "output_type": "stream",
          "name": "stderr",
          "text": [
            "\r  1%|          | 21/2000 [01:57<2:54:20,  5.29s/it]"
          ]
        },
        {
          "output_type": "stream",
          "name": "stdout",
          "text": [
            "2/2 [==============================] - 1s 283ms/step\n",
            "2/2 [==============================] - 2s 1s/step - loss: 1.0314e-14 - accuracy: 1.0000\n"
          ]
        },
        {
          "output_type": "stream",
          "name": "stderr",
          "text": [
            "\r  1%|          | 22/2000 [02:01<2:41:31,  4.90s/it]"
          ]
        },
        {
          "output_type": "stream",
          "name": "stdout",
          "text": [
            "2/2 [==============================] - 1s 281ms/step\n",
            "2/2 [==============================] - 2s 1s/step - loss: 4.2708e-16 - accuracy: 1.0000\n"
          ]
        },
        {
          "output_type": "stream",
          "name": "stderr",
          "text": [
            "\r  1%|          | 23/2000 [02:05<2:30:53,  4.58s/it]"
          ]
        },
        {
          "output_type": "stream",
          "name": "stdout",
          "text": [
            "2/2 [==============================] - 1s 356ms/step\n",
            "2/2 [==============================] - 3s 1s/step - loss: 7.3037e-16 - accuracy: 1.0000\n"
          ]
        },
        {
          "output_type": "stream",
          "name": "stderr",
          "text": [
            "\r  1%|          | 24/2000 [02:12<2:56:42,  5.37s/it]"
          ]
        },
        {
          "output_type": "stream",
          "name": "stdout",
          "text": [
            "2/2 [==============================] - 1s 280ms/step\n",
            "2/2 [==============================] - 3s 1s/step - loss: 9.3578e-17 - accuracy: 1.0000\n"
          ]
        },
        {
          "output_type": "stream",
          "name": "stderr",
          "text": [
            "\r  1%|▏         | 25/2000 [02:16<2:43:27,  4.97s/it]"
          ]
        },
        {
          "output_type": "stream",
          "name": "stdout",
          "text": [
            "2/2 [==============================] - 1s 282ms/step\n",
            "2/2 [==============================] - 3s 2s/step - loss: 5.1964e-15 - accuracy: 1.0000\n"
          ]
        },
        {
          "output_type": "stream",
          "name": "stderr",
          "text": [
            "\r  1%|▏         | 26/2000 [02:23<2:58:13,  5.42s/it]"
          ]
        },
        {
          "output_type": "stream",
          "name": "stdout",
          "text": [
            "2/2 [==============================] - 1s 282ms/step\n",
            "2/2 [==============================] - 2s 1s/step - loss: 7.8585e-15 - accuracy: 1.0000\n"
          ]
        },
        {
          "output_type": "stream",
          "name": "stderr",
          "text": [
            "\r  1%|▏         | 27/2000 [02:27<2:43:31,  4.97s/it]"
          ]
        },
        {
          "output_type": "stream",
          "name": "stdout",
          "text": [
            "2/2 [==============================] - 1s 281ms/step\n",
            "2/2 [==============================] - 3s 1s/step - loss: 9.9247e-17 - accuracy: 1.0000\n"
          ]
        },
        {
          "output_type": "stream",
          "name": "stderr",
          "text": [
            "\r  1%|▏         | 28/2000 [02:33<2:58:20,  5.43s/it]"
          ]
        },
        {
          "output_type": "stream",
          "name": "stdout",
          "text": [
            "2/2 [==============================] - 1s 284ms/step\n",
            "2/2 [==============================] - 3s 2s/step - loss: 2.8033e-11 - accuracy: 1.0000\n"
          ]
        },
        {
          "output_type": "stream",
          "name": "stderr",
          "text": [
            "\r  1%|▏         | 29/2000 [02:40<3:08:52,  5.75s/it]"
          ]
        },
        {
          "output_type": "stream",
          "name": "stdout",
          "text": [
            "2/2 [==============================] - 1s 293ms/step\n",
            "2/2 [==============================] - 3s 2s/step - loss: 1.0416e-16 - accuracy: 1.0000\n"
          ]
        },
        {
          "output_type": "stream",
          "name": "stderr",
          "text": [
            "\r  2%|▏         | 30/2000 [02:46<3:17:15,  6.01s/it]"
          ]
        },
        {
          "output_type": "stream",
          "name": "stdout",
          "text": [
            "2/2 [==============================] - 1s 286ms/step\n",
            "2/2 [==============================] - 3s 1s/step - loss: 1.3728e-16 - accuracy: 1.0000\n"
          ]
        },
        {
          "output_type": "stream",
          "name": "stderr",
          "text": [
            "\r  2%|▏         | 31/2000 [02:50<2:57:25,  5.41s/it]"
          ]
        },
        {
          "output_type": "stream",
          "name": "stdout",
          "text": [
            "2/2 [==============================] - 1s 280ms/step\n",
            "2/2 [==============================] - 3s 1s/step - loss: 1.6348e-16 - accuracy: 1.0000\n"
          ]
        },
        {
          "output_type": "stream",
          "name": "stderr",
          "text": [
            "\r  2%|▏         | 32/2000 [02:54<2:42:18,  4.95s/it]"
          ]
        },
        {
          "output_type": "stream",
          "name": "stdout",
          "text": [
            "2/2 [==============================] - 1s 432ms/step\n",
            "2/2 [==============================] - 3s 1s/step - loss: 5.1692e-14 - accuracy: 1.0000\n"
          ]
        },
        {
          "output_type": "stream",
          "name": "stderr",
          "text": [
            "\r  2%|▏         | 33/2000 [02:59<2:40:40,  4.90s/it]"
          ]
        },
        {
          "output_type": "stream",
          "name": "stdout",
          "text": [
            "2/2 [==============================] - 1s 283ms/step\n",
            "2/2 [==============================] - 3s 1s/step - loss: 7.5828e-18 - accuracy: 1.0000\n"
          ]
        },
        {
          "output_type": "stream",
          "name": "stderr",
          "text": [
            "\r  2%|▏         | 34/2000 [03:05<2:54:56,  5.34s/it]"
          ]
        },
        {
          "output_type": "stream",
          "name": "stdout",
          "text": [
            "2/2 [==============================] - 1s 279ms/step\n",
            "2/2 [==============================] - 3s 2s/step - loss: 5.8155e-17 - accuracy: 1.0000\n"
          ]
        },
        {
          "output_type": "stream",
          "name": "stderr",
          "text": [
            "\r  2%|▏         | 35/2000 [03:10<2:50:05,  5.19s/it]"
          ]
        },
        {
          "output_type": "stream",
          "name": "stdout",
          "text": [
            "2/2 [==============================] - 1s 283ms/step\n",
            "2/2 [==============================] - 3s 1s/step - loss: 1.3243e-16 - accuracy: 1.0000\n"
          ]
        },
        {
          "output_type": "stream",
          "name": "stderr",
          "text": [
            "\r  2%|▏         | 36/2000 [03:14<2:37:49,  4.82s/it]"
          ]
        },
        {
          "output_type": "stream",
          "name": "stdout",
          "text": [
            "2/2 [==============================] - 1s 305ms/step\n",
            "2/2 [==============================] - 3s 1s/step - loss: 6.2867e-17 - accuracy: 1.0000\n"
          ]
        },
        {
          "output_type": "stream",
          "name": "stderr",
          "text": [
            "\r  2%|▏         | 37/2000 [03:18<2:27:30,  4.51s/it]"
          ]
        },
        {
          "output_type": "stream",
          "name": "stdout",
          "text": [
            "2/2 [==============================] - 1s 291ms/step\n",
            "2/2 [==============================] - 3s 1s/step - loss: 4.3890e-19 - accuracy: 1.0000\n"
          ]
        },
        {
          "output_type": "stream",
          "name": "stderr",
          "text": [
            "\r  2%|▏         | 38/2000 [03:24<2:46:58,  5.11s/it]"
          ]
        },
        {
          "output_type": "stream",
          "name": "stdout",
          "text": [
            "2/2 [==============================] - 1s 295ms/step\n",
            "2/2 [==============================] - 3s 1s/step - loss: 7.1597e-20 - accuracy: 1.0000\n"
          ]
        },
        {
          "output_type": "stream",
          "name": "stderr",
          "text": [
            "\r  2%|▏         | 39/2000 [03:28<2:35:10,  4.75s/it]"
          ]
        },
        {
          "output_type": "stream",
          "name": "stdout",
          "text": [
            "2/2 [==============================] - 1s 296ms/step\n",
            "2/2 [==============================] - 3s 1s/step - loss: 8.0240e-20 - accuracy: 1.0000\n"
          ]
        },
        {
          "output_type": "stream",
          "name": "stderr",
          "text": [
            "\r  2%|▏         | 40/2000 [03:35<2:53:17,  5.30s/it]"
          ]
        },
        {
          "output_type": "stream",
          "name": "stdout",
          "text": [
            "2/2 [==============================] - 1s 681ms/step\n",
            "2/2 [==============================] - 3s 1s/step - loss: 1.5407e-12 - accuracy: 1.0000\n"
          ]
        },
        {
          "output_type": "stream",
          "name": "stderr",
          "text": [
            "\r  2%|▏         | 41/2000 [03:39<2:45:42,  5.08s/it]"
          ]
        },
        {
          "output_type": "stream",
          "name": "stdout",
          "text": [
            "2/2 [==============================] - 1s 280ms/step\n",
            "2/2 [==============================] - 2s 1s/step - loss: 4.1971e-21 - accuracy: 1.0000\n"
          ]
        },
        {
          "output_type": "stream",
          "name": "stderr",
          "text": [
            "\r  2%|▏         | 42/2000 [03:43<2:32:31,  4.67s/it]"
          ]
        },
        {
          "output_type": "stream",
          "name": "stdout",
          "text": [
            "2/2 [==============================] - 1s 454ms/step\n",
            "2/2 [==============================] - 3s 1s/step - loss: 1.1513e-19 - accuracy: 1.0000\n"
          ]
        },
        {
          "output_type": "stream",
          "name": "stderr",
          "text": [
            "\r  2%|▏         | 43/2000 [03:50<2:52:45,  5.30s/it]"
          ]
        },
        {
          "output_type": "stream",
          "name": "stdout",
          "text": [
            "2/2 [==============================] - 1s 288ms/step\n",
            "2/2 [==============================] - 2s 1s/step - loss: 5.3761e-20 - accuracy: 1.0000\n"
          ]
        },
        {
          "output_type": "stream",
          "name": "stderr",
          "text": [
            "\r  2%|▏         | 44/2000 [03:54<2:39:00,  4.88s/it]"
          ]
        },
        {
          "output_type": "stream",
          "name": "stdout",
          "text": [
            "2/2 [==============================] - 1s 283ms/step\n",
            "2/2 [==============================] - 3s 2s/step - loss: 4.3781e-17 - accuracy: 1.0000\n"
          ]
        },
        {
          "output_type": "stream",
          "name": "stderr",
          "text": [
            "\r  2%|▏         | 45/2000 [04:00<2:54:10,  5.35s/it]"
          ]
        },
        {
          "output_type": "stream",
          "name": "stdout",
          "text": [
            "2/2 [==============================] - 1s 283ms/step\n",
            "2/2 [==============================] - 2s 1s/step - loss: 4.6640e-17 - accuracy: 1.0000\n"
          ]
        },
        {
          "output_type": "stream",
          "name": "stderr",
          "text": [
            "\r  2%|▏         | 46/2000 [04:04<2:40:19,  4.92s/it]"
          ]
        },
        {
          "output_type": "stream",
          "name": "stdout",
          "text": [
            "2/2 [==============================] - 1s 280ms/step\n",
            "2/2 [==============================] - 3s 1s/step - loss: 9.5636e-20 - accuracy: 1.0000\n"
          ]
        },
        {
          "output_type": "stream",
          "name": "stderr",
          "text": [
            "\r  2%|▏         | 47/2000 [04:08<2:29:56,  4.61s/it]"
          ]
        },
        {
          "output_type": "stream",
          "name": "stdout",
          "text": [
            "2/2 [==============================] - 1s 447ms/step\n",
            "2/2 [==============================] - 3s 1s/step - loss: 3.2843e-16 - accuracy: 1.0000\n"
          ]
        },
        {
          "output_type": "stream",
          "name": "stderr",
          "text": [
            "\r  2%|▏         | 48/2000 [04:15<2:56:15,  5.42s/it]"
          ]
        },
        {
          "output_type": "stream",
          "name": "stdout",
          "text": [
            "2/2 [==============================] - 1s 284ms/step\n",
            "2/2 [==============================] - 3s 1s/step - loss: 4.5746e-18 - accuracy: 1.0000\n"
          ]
        },
        {
          "output_type": "stream",
          "name": "stderr",
          "text": [
            "\r  2%|▏         | 49/2000 [04:19<2:41:04,  4.95s/it]"
          ]
        },
        {
          "output_type": "stream",
          "name": "stdout",
          "text": [
            "2/2 [==============================] - 1s 283ms/step\n",
            "2/2 [==============================] - 4s 2s/step - loss: 1.2884e-21 - accuracy: 1.0000\n"
          ]
        },
        {
          "output_type": "stream",
          "name": "stderr",
          "text": [
            "\r  2%|▎         | 50/2000 [04:26<2:57:08,  5.45s/it]"
          ]
        },
        {
          "output_type": "stream",
          "name": "stdout",
          "text": [
            "2/2 [==============================] - 1s 282ms/step\n",
            "2/2 [==============================] - 2s 1s/step - loss: 4.9302e-19 - accuracy: 1.0000\n"
          ]
        },
        {
          "output_type": "stream",
          "name": "stderr",
          "text": [
            "\r  3%|▎         | 51/2000 [04:30<2:39:49,  4.92s/it]"
          ]
        },
        {
          "output_type": "stream",
          "name": "stdout",
          "text": [
            "2/2 [==============================] - 1s 299ms/step\n",
            "2/2 [==============================] - 3s 1s/step - loss: 3.2634e-20 - accuracy: 1.0000\n"
          ]
        },
        {
          "output_type": "stream",
          "name": "stderr",
          "text": [
            "\r  3%|▎         | 52/2000 [04:33<2:28:18,  4.57s/it]"
          ]
        },
        {
          "output_type": "stream",
          "name": "stdout",
          "text": [
            "2/2 [==============================] - 1s 522ms/step\n",
            "2/2 [==============================] - 3s 1s/step - loss: 2.1455e-18 - accuracy: 1.0000\n"
          ]
        },
        {
          "output_type": "stream",
          "name": "stderr",
          "text": [
            "\r  3%|▎         | 53/2000 [04:40<2:51:50,  5.30s/it]"
          ]
        },
        {
          "output_type": "stream",
          "name": "stdout",
          "text": [
            "2/2 [==============================] - 1s 282ms/step\n",
            "2/2 [==============================] - 2s 1s/step - loss: 7.0796e-20 - accuracy: 1.0000\n"
          ]
        },
        {
          "output_type": "stream",
          "name": "stderr",
          "text": [
            "\r  3%|▎         | 54/2000 [04:44<2:39:09,  4.91s/it]"
          ]
        },
        {
          "output_type": "stream",
          "name": "stdout",
          "text": [
            "2/2 [==============================] - 1s 279ms/step\n",
            "2/2 [==============================] - 3s 2s/step - loss: 1.6690e-20 - accuracy: 1.0000\n"
          ]
        },
        {
          "output_type": "stream",
          "name": "stderr",
          "text": [
            "\r  3%|▎         | 55/2000 [04:49<2:37:18,  4.85s/it]"
          ]
        },
        {
          "output_type": "stream",
          "name": "stdout",
          "text": [
            "2/2 [==============================] - 1s 278ms/step\n",
            "2/2 [==============================] - 3s 1s/step - loss: 2.2862e-26 - accuracy: 1.0000\n"
          ]
        },
        {
          "output_type": "stream",
          "name": "stderr",
          "text": [
            "\r  3%|▎         | 56/2000 [04:55<2:51:20,  5.29s/it]"
          ]
        },
        {
          "output_type": "stream",
          "name": "stdout",
          "text": [
            "2/2 [==============================] - 1s 280ms/step\n",
            "2/2 [==============================] - 3s 1s/step - loss: 6.6760e-19 - accuracy: 1.0000\n"
          ]
        },
        {
          "output_type": "stream",
          "name": "stderr",
          "text": [
            "\r  3%|▎         | 57/2000 [05:02<3:01:05,  5.59s/it]"
          ]
        },
        {
          "output_type": "stream",
          "name": "stdout",
          "text": [
            "2/2 [==============================] - 1s 290ms/step\n",
            "2/2 [==============================] - 3s 1s/step - loss: 5.5481e-26 - accuracy: 1.0000\n"
          ]
        },
        {
          "output_type": "stream",
          "name": "stderr",
          "text": [
            "\r  3%|▎         | 58/2000 [05:05<2:43:57,  5.07s/it]"
          ]
        },
        {
          "output_type": "stream",
          "name": "stdout",
          "text": [
            "2/2 [==============================] - 1s 278ms/step\n",
            "2/2 [==============================] - 3s 1s/step - loss: 1.2493e-22 - accuracy: 1.0000\n"
          ]
        },
        {
          "output_type": "stream",
          "name": "stderr",
          "text": [
            "\r  3%|▎         | 59/2000 [05:10<2:34:10,  4.77s/it]"
          ]
        },
        {
          "output_type": "stream",
          "name": "stdout",
          "text": [
            "2/2 [==============================] - 1s 382ms/step\n",
            "2/2 [==============================] - 3s 1s/step - loss: 9.8277e-22 - accuracy: 1.0000\n"
          ]
        },
        {
          "output_type": "stream",
          "name": "stderr",
          "text": [
            "\r  3%|▎         | 60/2000 [05:16<2:52:53,  5.35s/it]"
          ]
        },
        {
          "output_type": "stream",
          "name": "stdout",
          "text": [
            "2/2 [==============================] - 1s 301ms/step\n",
            "2/2 [==============================] - 3s 1s/step - loss: 6.4976e-24 - accuracy: 1.0000\n"
          ]
        },
        {
          "output_type": "stream",
          "name": "stderr",
          "text": [
            "\r  3%|▎         | 61/2000 [05:20<2:37:40,  4.88s/it]"
          ]
        },
        {
          "output_type": "stream",
          "name": "stdout",
          "text": [
            "2/2 [==============================] - 1s 288ms/step\n",
            "2/2 [==============================] - 3s 2s/step - loss: 4.2070e-24 - accuracy: 1.0000\n"
          ]
        },
        {
          "output_type": "stream",
          "name": "stderr",
          "text": [
            "\r  3%|▎         | 62/2000 [05:24<2:32:24,  4.72s/it]"
          ]
        },
        {
          "output_type": "stream",
          "name": "stdout",
          "text": [
            "2/2 [==============================] - 1s 463ms/step\n",
            "2/2 [==============================] - 4s 2s/step - loss: 2.1119e-26 - accuracy: 1.0000\n"
          ]
        },
        {
          "output_type": "stream",
          "name": "stderr",
          "text": [
            "\r  3%|▎         | 63/2000 [05:30<2:42:08,  5.02s/it]"
          ]
        },
        {
          "output_type": "stream",
          "name": "stdout",
          "text": [
            "2/2 [==============================] - 1s 284ms/step\n",
            "2/2 [==============================] - 3s 1s/step - loss: 7.5714e-13 - accuracy: 1.0000\n"
          ]
        },
        {
          "output_type": "stream",
          "name": "stderr",
          "text": [
            "\r  3%|▎         | 64/2000 [05:34<2:32:33,  4.73s/it]"
          ]
        },
        {
          "output_type": "stream",
          "name": "stdout",
          "text": [
            "2/2 [==============================] - 1s 286ms/step\n",
            "2/2 [==============================] - 4s 2s/step - loss: 3.3201e-23 - accuracy: 1.0000\n"
          ]
        },
        {
          "output_type": "stream",
          "name": "stderr",
          "text": [
            "\r  3%|▎         | 65/2000 [05:40<2:48:12,  5.22s/it]"
          ]
        },
        {
          "output_type": "stream",
          "name": "stdout",
          "text": [
            "2/2 [==============================] - 1s 282ms/step\n",
            "2/2 [==============================] - 3s 1s/step - loss: 1.1299e-20 - accuracy: 1.0000\n"
          ]
        },
        {
          "output_type": "stream",
          "name": "stderr",
          "text": [
            "\r  3%|▎         | 66/2000 [05:44<2:33:56,  4.78s/it]"
          ]
        },
        {
          "output_type": "stream",
          "name": "stdout",
          "text": [
            "2/2 [==============================] - 1s 303ms/step\n",
            "2/2 [==============================] - 3s 1s/step - loss: 7.9612e-25 - accuracy: 1.0000\n"
          ]
        },
        {
          "output_type": "stream",
          "name": "stderr",
          "text": [
            "\r  3%|▎         | 67/2000 [05:48<2:25:26,  4.51s/it]"
          ]
        },
        {
          "output_type": "stream",
          "name": "stdout",
          "text": [
            "2/2 [==============================] - 1s 483ms/step\n",
            "2/2 [==============================] - 3s 1s/step - loss: 1.4925e-21 - accuracy: 1.0000\n"
          ]
        },
        {
          "output_type": "stream",
          "name": "stderr",
          "text": [
            "\r  3%|▎         | 68/2000 [05:55<2:48:46,  5.24s/it]"
          ]
        },
        {
          "output_type": "stream",
          "name": "stdout",
          "text": [
            "2/2 [==============================] - 1s 285ms/step\n",
            "2/2 [==============================] - 2s 1s/step - loss: 9.1617e-24 - accuracy: 1.0000\n"
          ]
        },
        {
          "output_type": "stream",
          "name": "stderr",
          "text": [
            "\r  3%|▎         | 69/2000 [05:59<2:35:57,  4.85s/it]"
          ]
        },
        {
          "output_type": "stream",
          "name": "stdout",
          "text": [
            "2/2 [==============================] - 1s 290ms/step\n",
            "2/2 [==============================] - 3s 2s/step - loss: 1.0565e-22 - accuracy: 1.0000\n"
          ]
        },
        {
          "output_type": "stream",
          "name": "stderr",
          "text": [
            "\r  4%|▎         | 70/2000 [06:05<2:51:13,  5.32s/it]"
          ]
        },
        {
          "output_type": "stream",
          "name": "stdout",
          "text": [
            "2/2 [==============================] - 1s 276ms/step\n",
            "2/2 [==============================] - 2s 1s/step - loss: 1.3243e-21 - accuracy: 1.0000\n"
          ]
        },
        {
          "output_type": "stream",
          "name": "stderr",
          "text": [
            "\r  4%|▎         | 71/2000 [06:09<2:36:10,  4.86s/it]"
          ]
        },
        {
          "output_type": "stream",
          "name": "stdout",
          "text": [
            "2/2 [==============================] - 1s 296ms/step\n",
            "2/2 [==============================] - 2s 1s/step - loss: 1.0773e-23 - accuracy: 1.0000\n"
          ]
        },
        {
          "output_type": "stream",
          "name": "stderr",
          "text": [
            "\r  4%|▎         | 72/2000 [06:13<2:24:19,  4.49s/it]"
          ]
        },
        {
          "output_type": "stream",
          "name": "stdout",
          "text": [
            "2/2 [==============================] - 1s 285ms/step\n",
            "2/2 [==============================] - 3s 1s/step - loss: 1.4079e-23 - accuracy: 1.0000\n"
          ]
        },
        {
          "output_type": "stream",
          "name": "stderr",
          "text": [
            "\r  4%|▎         | 73/2000 [06:18<2:26:20,  4.56s/it]"
          ]
        },
        {
          "output_type": "stream",
          "name": "stdout",
          "text": [
            "2/2 [==============================] - 1s 296ms/step\n",
            "2/2 [==============================] - 3s 1s/step - loss: 2.1911e-18 - accuracy: 1.0000\n"
          ]
        },
        {
          "output_type": "stream",
          "name": "stderr",
          "text": [
            "\r  4%|▎         | 74/2000 [06:21<2:18:18,  4.31s/it]"
          ]
        },
        {
          "output_type": "stream",
          "name": "stdout",
          "text": [
            "2/2 [==============================] - 1s 287ms/step\n",
            "2/2 [==============================] - 3s 1s/step - loss: 8.3562e-24 - accuracy: 1.0000\n"
          ]
        },
        {
          "output_type": "stream",
          "name": "stderr",
          "text": [
            "\r  4%|▍         | 75/2000 [06:25<2:15:46,  4.23s/it]"
          ]
        },
        {
          "output_type": "stream",
          "name": "stdout",
          "text": [
            "2/2 [==============================] - 1s 285ms/step\n",
            "2/2 [==============================] - 3s 1s/step - loss: 6.0344e-25 - accuracy: 1.0000\n"
          ]
        },
        {
          "output_type": "stream",
          "name": "stderr",
          "text": [
            "\r  4%|▍         | 76/2000 [06:32<2:38:20,  4.94s/it]"
          ]
        }
      ]
    },
    {
      "cell_type": "code",
      "source": [
        "original=array_to_img(X_train[0])\n",
        "plt.imshow(original, cmap='gray')"
      ],
      "metadata": {
        "id": "gIZJrHj717fO"
      },
      "execution_count": null,
      "outputs": []
    },
    {
      "cell_type": "code",
      "source": [
        "random_noise=np.random.normal(0, 1, (1, 100))\n",
        "gen_result=generator.predict(random_noise)\n",
        "gen_img=array_to_img(gen_result[0])\n",
        "plt.imshow(gen_img, cmap='gray')"
      ],
      "metadata": {
        "id": "NvbBORbE2ILJ"
      },
      "execution_count": null,
      "outputs": []
    }
  ]
}