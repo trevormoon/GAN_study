{
  "nbformat": 4,
  "nbformat_minor": 0,
  "metadata": {
    "colab": {
      "provenance": [],
      "authorship_tag": "ABX9TyPUYFMiYKkX//XubPQVJtuu",
      "include_colab_link": true
    },
    "kernelspec": {
      "name": "python3",
      "display_name": "Python 3"
    },
    "language_info": {
      "name": "python"
    }
  },
  "cells": [
    {
      "cell_type": "markdown",
      "metadata": {
        "id": "view-in-github",
        "colab_type": "text"
      },
      "source": [
        "<a href=\"https://colab.research.google.com/github/trevormoon/GAN_study/blob/main/GAN_Example.ipynb\" target=\"_parent\"><img src=\"https://colab.research.google.com/assets/colab-badge.svg\" alt=\"Open In Colab\"/></a>"
      ]
    },
    {
      "cell_type": "code",
      "execution_count": 2,
      "metadata": {
        "id": "eF8ZhbgiQN4u"
      },
      "outputs": [],
      "source": [
        "import pandas as pd\n",
        "import numpy as np\n",
        "import keras\n",
        "import keras.backend as K\n",
        "from keras.layers import Conv2D, Activation, Dropout, Flatten, Dense, BatchNormalization, Reshape, UpSampling2D, Input\n",
        "from keras.models import Model\n",
        "from keras.optimizers import RMSprop\n",
        "from keras.preprocessing.image import array_to_img\n",
        "\n",
        "import warnings ; warnings.filterwarnings('ignore')\n",
        "\n",
        "import matplotlib.pyplot as plt\n",
        "from tqdm import tqdm"
      ]
    },
    {
      "cell_type": "code",
      "source": [
        "Xtrain = np.load('full-numpy_bitmap-camel.npy')\n",
        "Xtrain = np.reshape(Xtrain, (len(Xtrain), 28, 28, 1))\n",
        "Xtrain = Xtrain / 255\n",
        "\n",
        "disc_input = Input(shape=(28, 28, 1))\n",
        "\n",
        "x = Conv2D(filters=64, kernel_size=5, strides=2, padding='same')(disc_input)\n",
        "x = Activation('relu')(x)\n",
        "x = Dropout(rate=0.4)(x)\n",
        "\n",
        "x = Conv2D(filters = 64, kernel_size=5, strides=2, padding='same')(x)\n",
        "x = Activation('relu')(x)\n",
        "x = Dropout(rate=0.4)(x)\n",
        "\n",
        "x = Conv2D(filters=128, kernel_size=5, strides=2, padding='same')(x)\n",
        "x = Activation('relu')(x)\n",
        "x = Dropout(rate=0.4)(x)\n",
        "\n",
        "x = Conv2D(filters=128, kernel_size=5, strides=1, padding='same')(x)\n",
        "x = Activation('relu')(x)\n",
        "x = Dropout(rate=0.4)(x)\n",
        "\n",
        "x = Flatten()(x)\n",
        "disc_output = Dense(units=1, activation='sigmoid', kernel_initializer='he_normal')(x)\n",
        "\n",
        "discriminator = Model(disc_input, disc_output)\n",
        "discriminator.summary()\n",
        "\n",
        "gen_dense_size=(7, 7, 64)\n",
        "\n",
        "gen_input = Input(shape = (100, ))\n",
        "x = Dense(units=np.prod(gen_dense_size))(gen_input)\n",
        "x = BatchNormalization()(x)\n",
        "x = Activation('relu')(x)\n",
        "x = Reshape(gen_dense_size)(x)\n",
        "\n",
        "x = UpSampling2D()(x)\n",
        "x = Conv2D(filters=128, kernel_size=5, padding='same', strides=1)(x)\n",
        "x = BatchNormalization(momentum=0.9)(x)\n",
        "x = Activation('relu')(x)\n",
        "\n",
        "x = UpSampling2D()(x)\n",
        "x = Conv2D(filters = 64, kernel_size=5, padding='same', strides=1)(x)\n",
        "x = BatchNormalization(momentum=0.9)(x)\n",
        "x = Activation('relu')(x)\n",
        "\n",
        "x = Conv2D(filters=64, kernel_size=5, padding='same', strides=1)(x)\n",
        "x = BatchNormalization(momentum=0.9)(x)\n",
        "x = Activation('relu')(x)\n",
        "\n",
        "x = Conv2D(filters=1, kernel_size=5, padding='same', strides=1)(x)\n",
        "gen_output = Activation('sigmoid')(x)\n",
        "\n",
        "generator = Model(gen_input, gen_output)\n",
        "generator.summary()\n",
        "\n",
        "discriminator.compile(optimizer=RMSprop(lr=0.0008), loss='binary_crossentropy', metrics=['accuracy'])\n",
        "discriminator.trainable = False\n",
        "model_input = Input(shape=(100, ))\n",
        "model_output = discriminator(generator(model_input))\n",
        "model = Model(model_input, model_output)\n",
        "\n",
        "model.compile(optimizer=RMSprop(lr=0.0004), loss='binary_crossentropy', metrics=['accuracy'])\n",
        "\n",
        "def train_discriminator(x_train, batch_size):\n",
        "    valid = np.ones((batch_size, 1))\n",
        "    fake = np.zeros((batch_size, 1))\n",
        "\n",
        "    idx = np.random.randint(0, len(Xtrain), batch_size)\n",
        "    true_imgs = Xtrain[idx]\n",
        "    discriminator.fit(true_imgs, valid, verbose=0)\n",
        "\n",
        "    noise = np.random.normal(0, 1, (batch_size, 100))\n",
        "    gen_imgs = generator.predict(noise)\n",
        "\n",
        "    discriminator.fit(gen_imgs, fake, verbose=0)\n",
        "\n",
        "def train_generator(batch_size):\n",
        "    valid = np.ones((batch_size, 1))\n",
        "    noise = np.random.normal(0, 1, (batch_size, 100))\n",
        "    model.fit(noise, valid, verbose=1)\n",
        "\n",
        "for epoch in tqdm(range(2000)):\n",
        "    train_discriminator(Xtrain, 64)\n",
        "    train_generator(64)"
      ],
      "metadata": {
        "id": "CUmw_jAiQQ3P"
      },
      "execution_count": null,
      "outputs": []
    }
  ]
}